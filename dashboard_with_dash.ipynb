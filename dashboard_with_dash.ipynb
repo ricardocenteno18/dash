{
 "cells": [
  {
   "cell_type": "markdown",
   "metadata": {},
   "source": [
    "## Dashboard Creation with Dash\n",
    "### Ricardo Armando Centeno Santos"
   ]
  },
  {
   "cell_type": "markdown",
   "metadata": {},
   "source": [
    "##### Actividad 1. Introducción a las bases de Dash\n",
    "\n",
    "1. ¿Qué es Dash?\n",
    "\n",
    "    c) Una biblioteca para crear tableros con Python puro\n",
    "\n",
    "2. ¿En qué lenguaje de programación podemos usar Dash?\n",
    "\n",
    "    a) Python\n",
    "\n",
    "3. ¿Cuáles son las dos partes principales en que se dividen las aplicaciones que construimos con Dash?\n",
    "\n",
    "    c) El diseño y la interactividad "
   ]
  },
  {
   "cell_type": "markdown",
   "metadata": {},
   "source": [
    "##### Actividad 2. Dash Layout\n",
    "\n",
    "1. ¿Cuál es la biblioteca que contiene la función que nos sirve para crear la aplicación?\n",
    "\n",
    "    a) dash\n",
    "\n",
    "2. ¿En qué biblioteca encontramos las funciones para crear los elementos de tipo texto (títulos principales, texto plano, etc.)?\n",
    "    \n",
    "    b) dash_html_components\n",
    "\n",
    "3. ¿En qué biblioteca encontramos las funciones para crear los elementos de tipo gráficas?\n",
    "        \n",
    "    c) dash_core_components"
   ]
  },
  {
   "cell_type": "code",
   "execution_count": 1,
   "metadata": {},
   "outputs": [
    {
     "name": "stderr",
     "output_type": "stream",
     "text": [
      "C:\\Users\\ricar\\AppData\\Local\\Temp\\ipykernel_3956\\2347858611.py:3: UserWarning: \n",
      "The dash_core_components package is deprecated. Please replace\n",
      "`import dash_core_components as dcc` with `from dash import dcc`\n",
      "  import dash_core_components as dcc\n",
      "C:\\Users\\ricar\\AppData\\Local\\Temp\\ipykernel_3956\\2347858611.py:4: UserWarning: \n",
      "The dash_html_components package is deprecated. Please replace\n",
      "`import dash_html_components as html` with `from dash import html`\n",
      "  import dash_html_components as html\n"
     ]
    }
   ],
   "source": [
    "#Importing the libraries\n",
    "import dash\n",
    "import dash_core_components as dcc\n",
    "import dash_html_components as html"
   ]
  },
  {
   "cell_type": "code",
   "execution_count": 9,
   "metadata": {},
   "outputs": [
    {
     "name": "stdout",
     "output_type": "stream",
     "text": [
      "Dash is running on http://127.0.0.1:8050/\n",
      "\n",
      "Dash is running on http://127.0.0.1:8050/\n",
      "\n",
      "Dash is running on http://127.0.0.1:8050/\n",
      "\n",
      "Dash is running on http://127.0.0.1:8050/\n",
      "\n",
      "Dash is running on http://127.0.0.1:8050/\n",
      "\n",
      " * Serving Flask app \"__main__\" (lazy loading)\n",
      " * Environment: production\n",
      "\u001b[31m   WARNING: This is a development server. Do not use it in a production deployment.\u001b[0m\n",
      "\u001b[2m   Use a production WSGI server instead.\u001b[0m\n",
      " * Debug mode: off\n"
     ]
    },
    {
     "name": "stderr",
     "output_type": "stream",
     "text": [
      " * Running on http://127.0.0.1:8050/ (Press CTRL+C to quit)\n",
      "127.0.0.1 - - [15/Nov/2022 20:07:17] \"GET / HTTP/1.1\" 200 -\n",
      "127.0.0.1 - - [15/Nov/2022 20:07:18] \"GET /_dash-layout HTTP/1.1\" 200 -\n",
      "127.0.0.1 - - [15/Nov/2022 20:07:18] \"GET /_dash-dependencies HTTP/1.1\" 200 -\n",
      "127.0.0.1 - - [15/Nov/2022 20:07:18] \"GET /_dash-component-suites/dash/dcc/async-graph.js HTTP/1.1\" 200 -\n",
      "127.0.0.1 - - [15/Nov/2022 20:07:18] \"GET /_dash-component-suites/dash/dcc/async-plotlyjs.js HTTP/1.1\" 200 -\n",
      "127.0.0.1 - - [15/Nov/2022 20:07:19] \"GET /_favicon.ico?v=2.7.0 HTTP/1.1\" 200 -\n"
     ]
    }
   ],
   "source": [
    "#Creating the app\n",
    "app = dash.Dash()\n",
    "\n",
    "colors = {\n",
    "    'background': '#111111',\n",
    "    'text': '#7FDBFF'\n",
    "}\n",
    "#Creating the layout\n",
    "app.layout = html.Div(children=[html.H1('Hello Dash!'),\n",
    "                                html.Div('Dash: Tableros web con Python'),\n",
    "                                dcc.Graph(id='example',\n",
    "                                            figure={'data': [{'x': [1, 2, 3], \n",
    "                                                              'y': [4, 1, 2], \n",
    "                                                              'type': 'bar', \n",
    "                                                              'name': 'SF'},\n",
    "                                                                {'x': [1, 2, 3],\n",
    "                                                                'y': [2, 4, 5],\n",
    "                                                                'type': 'bar',\n",
    "                                                                'name': 'NYC'}],\n",
    "                                                    'layout': {'title': 'Gráficas de barras',\n",
    "                                                                'plot_bgcolor':colors['background'],\n",
    "                                                                'paper_bgcolor':colors['background'],\n",
    "                                                                'font': {'color':colors['text']}}})],\n",
    "                                                                \n",
    "                            style={'backgroundColor':colors['background']})\n",
    "\n",
    "\n",
    "if __name__ == '__main__': \n",
    "    app.run_server() "
   ]
  },
  {
   "cell_type": "markdown",
   "metadata": {},
   "source": [
    "##### Actividad 3. Convertir gráficas de Plotly en un dashboard\n",
    "\n",
    "1. La lista que recibe la función html.Div(), ¿cuántos elementos debe tiene?\n",
    "\n",
    "    a) 1\n",
    "\n",
    "2. El tablero resultante, ¿cuántas visualizaciones tiene?\n",
    "\n",
    "    b) 2 visualizaciones, cada una con un diagrama de dispersión.\n",
    "\n",
    "3. Al navegar en el tablero, aparece arriba a la derecha de la visualización una barra de herramientas. La primera de ellas dice “Download plot as a png”. Si la usamos, ¿qué es lo que descargamos?\n",
    "\n",
    "    b) La visualización, incluyendo su título y sus leyendas.\n"
   ]
  },
  {
   "cell_type": "code",
   "execution_count": 10,
   "metadata": {},
   "outputs": [],
   "source": [
    "import plotly.graph_objs as go\n",
    "import numpy as np "
   ]
  },
  {
   "cell_type": "code",
   "execution_count": 15,
   "metadata": {},
   "outputs": [
    {
     "name": "stdout",
     "output_type": "stream",
     "text": [
      "Dash is running on http://127.0.0.1:8050/\n",
      "\n",
      "Dash is running on http://127.0.0.1:8050/\n",
      "\n",
      "Dash is running on http://127.0.0.1:8050/\n",
      "\n",
      "Dash is running on http://127.0.0.1:8050/\n",
      "\n",
      "Dash is running on http://127.0.0.1:8050/\n",
      "\n",
      "Dash is running on http://127.0.0.1:8050/\n",
      "\n",
      "Dash is running on http://127.0.0.1:8050/\n",
      "\n",
      "Dash is running on http://127.0.0.1:8050/\n",
      "\n",
      "Dash is running on http://127.0.0.1:8050/\n",
      "\n",
      "Dash is running on http://127.0.0.1:8050/\n",
      "\n",
      " * Serving Flask app \"__main__\" (lazy loading)\n",
      " * Environment: production\n",
      "\u001b[31m   WARNING: This is a development server. Do not use it in a production deployment.\u001b[0m\n",
      "\u001b[2m   Use a production WSGI server instead.\u001b[0m\n",
      " * Debug mode: off\n"
     ]
    },
    {
     "name": "stderr",
     "output_type": "stream",
     "text": [
      " * Running on http://127.0.0.1:8050/ (Press CTRL+C to quit)\n",
      "127.0.0.1 - - [15/Nov/2022 23:47:54] \"GET / HTTP/1.1\" 200 -\n",
      "127.0.0.1 - - [15/Nov/2022 23:47:54] \"GET /_dash-layout HTTP/1.1\" 200 -\n",
      "127.0.0.1 - - [15/Nov/2022 23:47:54] \"GET /_dash-dependencies HTTP/1.1\" 200 -\n",
      "127.0.0.1 - - [15/Nov/2022 23:47:54] \"GET /_dash-component-suites/dash/dcc/async-graph.js HTTP/1.1\" 200 -\n",
      "127.0.0.1 - - [15/Nov/2022 23:47:54] \"GET /_dash-component-suites/dash/dcc/async-plotlyjs.js HTTP/1.1\" 200 -\n",
      "127.0.0.1 - - [15/Nov/2022 23:47:54] \"GET /_favicon.ico?v=2.7.0 HTTP/1.1\" 200 -\n"
     ]
    }
   ],
   "source": [
    "#Creating app\n",
    "app = dash.Dash()\n",
    "\n",
    "np.random.seed(42)\n",
    "random_x = np.random.randint(1,101,100)\n",
    "random_y = np.random.randint(1,101,100)\n",
    "\n",
    "#Creating the layout\n",
    "app.layout = html.Div([html.H1('Dash+Plotly'),\n",
    "                        dcc.Graph(id='scatterplot1',\n",
    "                                  figure={'data': [go.Scatter(x=random_x,\n",
    "                                                              y=random_y,\n",
    "                                                              mode='markers'),\n",
    "                                                   go.Scatter(x=random_x,\n",
    "                                                              y=random_y+10,\n",
    "                                                              mode='markers')],\n",
    "                                          'layout': go.Layout(title='Scatter Plot')})]) \n",
    "\n",
    "\n",
    "\n",
    "if __name__ == '__main__':\n",
    "    app.run_server() \n"
   ]
  },
  {
   "cell_type": "markdown",
   "metadata": {},
   "source": [
    "##### Actividad 4. HTML components\n",
    "\n",
    "1.\tRespecto a todo el ancho de la pantalla, ¿qué tan ancho es el Div rojo?\n",
    "    \n",
    "    a) Igual de ancho\n",
    "\n",
    "2.\tRespecto al ancho del Div rojo, ¿qué tan ancho es el Div azul?\n",
    "\n",
    "    b) La mitad de ancho\n",
    "\n",
    "3.\tRespecto al ancho del Div azul, ¿qué tan ancho es el Div verde?\n",
    "\n",
    "    b) La mitad de ancho"
   ]
  },
  {
   "cell_type": "code",
   "execution_count": 17,
   "metadata": {},
   "outputs": [
    {
     "name": "stdout",
     "output_type": "stream",
     "text": [
      "Dash is running on http://127.0.0.1:8050/\n",
      "\n",
      "Dash is running on http://127.0.0.1:8050/\n",
      "\n",
      "Dash is running on http://127.0.0.1:8050/\n",
      "\n",
      "Dash is running on http://127.0.0.1:8050/\n",
      "\n",
      "Dash is running on http://127.0.0.1:8050/\n",
      "\n",
      "Dash is running on http://127.0.0.1:8050/\n",
      "\n",
      "Dash is running on http://127.0.0.1:8050/\n",
      "\n",
      "Dash is running on http://127.0.0.1:8050/\n",
      "\n",
      "Dash is running on http://127.0.0.1:8050/\n",
      "\n",
      "Dash is running on http://127.0.0.1:8050/\n",
      "\n",
      "Dash is running on http://127.0.0.1:8050/\n",
      "\n",
      "Dash is running on http://127.0.0.1:8050/\n",
      "\n",
      " * Serving Flask app \"__main__\" (lazy loading)\n",
      " * Environment: production\n",
      "\u001b[31m   WARNING: This is a development server. Do not use it in a production deployment.\u001b[0m\n",
      "\u001b[2m   Use a production WSGI server instead.\u001b[0m\n",
      " * Debug mode: off\n"
     ]
    },
    {
     "name": "stderr",
     "output_type": "stream",
     "text": [
      " * Running on http://127.0.0.1:8050/ (Press CTRL+C to quit)\n",
      "127.0.0.1 - - [16/Nov/2022 00:04:23] \"GET / HTTP/1.1\" 200 -\n",
      "127.0.0.1 - - [16/Nov/2022 00:04:23] \"GET /_dash-layout HTTP/1.1\" 200 -\n",
      "127.0.0.1 - - [16/Nov/2022 00:04:23] \"GET /_dash-dependencies HTTP/1.1\" 200 -\n",
      "127.0.0.1 - - [16/Nov/2022 00:04:23] \"GET /_favicon.ico?v=2.7.0 HTTP/1.1\" 200 -\n"
     ]
    }
   ],
   "source": [
    "#creating app\n",
    "app = dash.Dash()\n",
    "\n",
    "#Creating the layout\n",
    "app.layout = html.Div(['Esta es la división más externa!',\n",
    "                        html.Div(['Esta es la división interna!'],\n",
    "                                style={'color':'blue',\n",
    "                                        'border':'2px blue solid'}),\n",
    "                        html.Div(['Otra división interna!'],\n",
    "                                style={'color':'green',\n",
    "                                        'border':'2px green solid'})],\n",
    "                                style={'color':'red',\n",
    "                                        'border':'2px red solid'})\n",
    "                            \n",
    "if __name__ == '__main__':\n",
    "    app.run_server()\n"
   ]
  },
  {
   "cell_type": "code",
   "execution_count": null,
   "metadata": {},
   "outputs": [],
   "source": []
  }
 ],
 "metadata": {
  "kernelspec": {
   "display_name": "Python 3.9.12 ('base')",
   "language": "python",
   "name": "python3"
  },
  "language_info": {
   "codemirror_mode": {
    "name": "ipython",
    "version": 3
   },
   "file_extension": ".py",
   "mimetype": "text/x-python",
   "name": "python",
   "nbconvert_exporter": "python",
   "pygments_lexer": "ipython3",
   "version": "3.9.12"
  },
  "orig_nbformat": 4,
  "vscode": {
   "interpreter": {
    "hash": "e4983ef1541e43841f9e934630005c5670a77666a511d6fa2b0487a6871a7991"
   }
  }
 },
 "nbformat": 4,
 "nbformat_minor": 2
}
