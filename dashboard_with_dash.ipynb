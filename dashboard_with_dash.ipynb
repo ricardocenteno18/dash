{
 "cells": [
  {
   "cell_type": "markdown",
   "metadata": {},
   "source": [
    "## Dashboard Creation with Dash\n",
    "### Ricardo Armando Centeno Santos"
   ]
  },
  {
   "cell_type": "markdown",
   "metadata": {},
   "source": [
    "##### Actividad 1. Introducción a las bases de Dash\n",
    "\n",
    "1. ¿Qué es Dash?\n",
    "\n",
    "    c) Una biblioteca para crear tableros con Python puro\n",
    "\n",
    "2. ¿En qué lenguaje de programación podemos usar Dash?\n",
    "\n",
    "    a) Python\n",
    "\n",
    "3. ¿Cuáles son las dos partes principales en que se dividen las aplicaciones que construimos con Dash?\n",
    "\n",
    "    c) El diseño y la interactividad "
   ]
  },
  {
   "cell_type": "markdown",
   "metadata": {},
   "source": [
    "##### Actividad 2. Dash Layout"
   ]
  },
  {
   "cell_type": "code",
   "execution_count": 1,
   "metadata": {},
   "outputs": [
    {
     "name": "stderr",
     "output_type": "stream",
     "text": [
      "C:\\Users\\ricar\\AppData\\Local\\Temp\\ipykernel_3956\\2347858611.py:3: UserWarning: \n",
      "The dash_core_components package is deprecated. Please replace\n",
      "`import dash_core_components as dcc` with `from dash import dcc`\n",
      "  import dash_core_components as dcc\n",
      "C:\\Users\\ricar\\AppData\\Local\\Temp\\ipykernel_3956\\2347858611.py:4: UserWarning: \n",
      "The dash_html_components package is deprecated. Please replace\n",
      "`import dash_html_components as html` with `from dash import html`\n",
      "  import dash_html_components as html\n"
     ]
    }
   ],
   "source": [
    "#Importing the libraries\n",
    "import dash\n",
    "import dash_core_components as dcc\n",
    "import dash_html_components as html"
   ]
  },
  {
   "cell_type": "code",
   "execution_count": 5,
   "metadata": {},
   "outputs": [
    {
     "name": "stdout",
     "output_type": "stream",
     "text": [
      "Dash is running on http://127.0.0.1:8050/\n",
      "\n",
      "Dash is running on http://127.0.0.1:8050/\n",
      "\n",
      "Dash is running on http://127.0.0.1:8050/\n",
      "\n",
      " * Serving Flask app \"__main__\" (lazy loading)\n",
      " * Environment: production\n",
      "\u001b[31m   WARNING: This is a development server. Do not use it in a production deployment.\u001b[0m\n",
      "\u001b[2m   Use a production WSGI server instead.\u001b[0m\n",
      " * Debug mode: off\n"
     ]
    },
    {
     "name": "stderr",
     "output_type": "stream",
     "text": [
      " * Running on http://127.0.0.1:8050/ (Press CTRL+C to quit)\n",
      "127.0.0.1 - - [15/Nov/2022 19:59:54] \"GET / HTTP/1.1\" 200 -\n",
      "127.0.0.1 - - [15/Nov/2022 19:59:54] \"GET /_dash-layout HTTP/1.1\" 200 -\n",
      "127.0.0.1 - - [15/Nov/2022 19:59:54] \"GET /_dash-dependencies HTTP/1.1\" 200 -\n",
      "127.0.0.1 - - [15/Nov/2022 19:59:55] \"GET /_dash-component-suites/dash/dcc/async-graph.js HTTP/1.1\" 200 -\n",
      "127.0.0.1 - - [15/Nov/2022 19:59:55] \"GET /_dash-component-suites/dash/dcc/async-plotlyjs.js HTTP/1.1\" 200 -\n",
      "127.0.0.1 - - [15/Nov/2022 19:59:55] \"GET /_favicon.ico?v=2.7.0 HTTP/1.1\" 200 -\n"
     ]
    }
   ],
   "source": [
    "#Creating the app\n",
    "app = dash.Dash()\n",
    "\n",
    "#Creating the layout\n",
    "app.layout = html.Div(children=[html.H1('Hello Dash!'),\n",
    "                                html.Div('Dash: Tableros web con Python'),\n",
    "                                dcc.Graph(id='example',\n",
    "                                            figure={'data': [{'x': [1, 2, 3], \n",
    "                                                              'y': [4, 1, 2], \n",
    "                                                              'type': 'bar', \n",
    "                                                              'name': 'SF'},\n",
    "                                                                {'x': [1, 2, 3],\n",
    "                                                                'y': [2, 4, 5],\n",
    "                                                                'type': 'bar',\n",
    "                                                                'name': 'NYC'}],\n",
    "                                                    'layout': {'title': 'Gráficas de barras'}})])\n",
    "\n",
    "\n",
    "if __name__ == '__main__': \n",
    "    app.run_server() "
   ]
  },
  {
   "cell_type": "code",
   "execution_count": null,
   "metadata": {},
   "outputs": [],
   "source": []
  }
 ],
 "metadata": {
  "kernelspec": {
   "display_name": "Python 3.9.12 ('base')",
   "language": "python",
   "name": "python3"
  },
  "language_info": {
   "codemirror_mode": {
    "name": "ipython",
    "version": 3
   },
   "file_extension": ".py",
   "mimetype": "text/x-python",
   "name": "python",
   "nbconvert_exporter": "python",
   "pygments_lexer": "ipython3",
   "version": "3.9.12"
  },
  "orig_nbformat": 4,
  "vscode": {
   "interpreter": {
    "hash": "e4983ef1541e43841f9e934630005c5670a77666a511d6fa2b0487a6871a7991"
   }
  }
 },
 "nbformat": 4,
 "nbformat_minor": 2
}
